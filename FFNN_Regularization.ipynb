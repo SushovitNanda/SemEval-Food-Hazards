{
  "nbformat": 4,
  "nbformat_minor": 0,
  "metadata": {
    "colab": {
      "provenance": [],
      "collapsed_sections": [
        "g_TF2GCqPndi",
        "DSWGp8sqRyml",
        "doGQPfh1PlV6"
      ],
      "gpuType": "T4",
      "authorship_tag": "ABX9TyP9TudyF/THnivL7pOgU/Vz",
      "include_colab_link": true
    },
    "kernelspec": {
      "name": "python3",
      "display_name": "Python 3"
    },
    "language_info": {
      "name": "python"
    },
    "accelerator": "GPU"
  },
  "cells": [
    {
      "cell_type": "markdown",
      "metadata": {
        "id": "view-in-github",
        "colab_type": "text"
      },
      "source": [
        "<a href=\"https://colab.research.google.com/github/SushovitNanda/SemEval-Food-Hazards/blob/main/FFNN_Regularization.ipynb\" target=\"_parent\"><img src=\"https://colab.research.google.com/assets/colab-badge.svg\" alt=\"Open In Colab\"/></a>"
      ]
    },
    {
      "cell_type": "code",
      "source": [
        "import pandas as pd\n",
        "import numpy as np\n",
        "import torch\n",
        "import torch.nn as nn\n",
        "import torch.optim as optim\n",
        "from torch.utils.data import Dataset, DataLoader\n",
        "from sklearn.model_selection import train_test_split\n",
        "from sklearn.preprocessing import LabelEncoder\n",
        "from sklearn.metrics import classification_report\n",
        "from transformers import DistilBertTokenizer, DistilBertModel\n",
        "import copy\n",
        "import warnings\n",
        "warnings.filterwarnings(\"ignore\")"
      ],
      "metadata": {
        "id": "mjg64_FDLg2C"
      },
      "execution_count": 17,
      "outputs": []
    },
    {
      "cell_type": "code",
      "source": [
        "# Load and preprocess data\n",
        "train_df = pd.read_csv('incidents_labelled.csv')\n",
        "\n",
        "# Combine title and text for the input feature\n",
        "train_df['combined_text'] = train_df['title'] + \" \" + train_df['text']\n",
        "\n",
        "# Label encode the target variable\n",
        "label_encoder = LabelEncoder()\n",
        "train_df['label'] = label_encoder.fit_transform(train_df['hazard-category'])\n",
        "num_classes = len(label_encoder.classes_)\n",
        "\n",
        "# Split the data\n",
        "train_data, test_data = train_test_split(train_df, test_size=0.2, random_state=42)\n",
        "\n",
        "# Tokenizer setup\n",
        "tokenizer = DistilBertTokenizer.from_pretrained('distilbert-base-uncased')\n",
        "max_length = 128\n",
        "\n",
        "# Custom Dataset class\n",
        "class HazardDataset(Dataset):\n",
        "    def __init__(self, data, tokenizer, max_length):\n",
        "        self.data = data\n",
        "        self.tokenizer = tokenizer\n",
        "        self.max_length = max_length\n",
        "\n",
        "    def __len__(self):\n",
        "        return len(self.data)\n",
        "\n",
        "    def __getitem__(self, idx):\n",
        "        text = self.data.iloc[idx]['combined_text']\n",
        "        label = self.data.iloc[idx]['label']\n",
        "\n",
        "        # Tokenize the text\n",
        "        encoding = self.tokenizer.encode_plus(\n",
        "            text,\n",
        "            add_special_tokens=True,\n",
        "            max_length=self.max_length,\n",
        "            padding='max_length',\n",
        "            truncation=True,\n",
        "            return_tensors='pt'\n",
        "        )\n",
        "\n",
        "        return {\n",
        "            'input_ids': encoding['input_ids'].flatten(),\n",
        "            'attention_mask': encoding['attention_mask'].flatten(),\n",
        "            'label': torch.tensor(label, dtype=torch.long)\n",
        "        }\n",
        "\n",
        "# Create data loaders\n",
        "train_dataset = HazardDataset(train_data, tokenizer, max_length)\n",
        "test_dataset = HazardDataset(test_data, tokenizer, max_length)\n",
        "\n",
        "train_loader = DataLoader(train_dataset, batch_size=32, shuffle=True)\n",
        "test_loader = DataLoader(test_dataset, batch_size=32, shuffle=False)\n"
      ],
      "metadata": {
        "id": "mQLjqmf4LjyJ"
      },
      "execution_count": 18,
      "outputs": []
    },
    {
      "cell_type": "markdown",
      "source": [
        "# FFNN"
      ],
      "metadata": {
        "id": "g_TF2GCqPndi"
      }
    },
    {
      "cell_type": "code",
      "source": [
        "# Define the FFNN model\n",
        "class FFNNModel(nn.Module):\n",
        "    def __init__(self, hidden_size, num_classes):\n",
        "        super(FFNNModel, self).__init__()\n",
        "        self.distilbert = DistilBertModel.from_pretrained('distilbert-base-uncased')\n",
        "        self.fc1 = nn.Linear(self.distilbert.config.hidden_size, hidden_size)\n",
        "        self.fc2 = nn.Linear(hidden_size, num_classes)\n",
        "        self.relu = nn.ReLU()\n",
        "        self.dropout = nn.Dropout(0.3)\n",
        "\n",
        "    def forward(self, input_ids, attention_mask):\n",
        "        outputs = self.distilbert(input_ids=input_ids, attention_mask=attention_mask)\n",
        "        pooled_output = outputs.last_hidden_state[:, 0]  # [CLS] token output\n",
        "        x = self.fc1(pooled_output)\n",
        "        x = self.relu(x)\n",
        "        x = self.dropout(x)\n",
        "        return self.fc2(x)\n",
        "\n",
        "# Initialize the model, loss function, and optimizer with L2 regularization\n",
        "model = FFNNModel(hidden_size=64, num_classes=num_classes)\n",
        "device = 'cuda' if torch.cuda.is_available() else 'cpu'\n",
        "model = model.to(device)\n",
        "\n",
        "# Convert class weights to float32\n",
        "class_weights = torch.tensor([1.0 / count for count in train_df['hazard-category'].value_counts().values], dtype=torch.float32)\n",
        "criterion = nn.CrossEntropyLoss(weight=class_weights.to(device))\n",
        "\n",
        "# Define L2 regularization strength (e.g., 1e-4)\n",
        "l2_lambda = 1e-4\n",
        "optimizer = optim.Adam(model.parameters(), lr=1e-4, weight_decay=l2_lambda)\n",
        "\n",
        "# Early stopping parameters\n",
        "patience = 2\n",
        "best_loss = float('inf')\n",
        "early_stop_counter = 0\n",
        "best_model_state = copy.deepcopy(model.state_dict())\n",
        "\n",
        "# Training function\n",
        "def train_model(model, data_loader, criterion, optimizer):\n",
        "    model.train()\n",
        "    total_loss = 0\n",
        "    for batch in data_loader:\n",
        "        optimizer.zero_grad()\n",
        "        input_ids = batch['input_ids'].to(device)\n",
        "        attention_mask = batch['attention_mask'].to(device)\n",
        "        labels = batch['label'].to(device)\n",
        "\n",
        "        outputs = model(input_ids=input_ids, attention_mask=attention_mask).float()\n",
        "        loss = criterion(outputs, labels)\n",
        "        loss.backward()\n",
        "        optimizer.step()\n",
        "\n",
        "        total_loss += loss.item()\n",
        "    return total_loss / len(data_loader)\n",
        "\n",
        "# Evaluation function\n",
        "def eval_model(model, data_loader):\n",
        "    model.eval()\n",
        "    total_loss = 0\n",
        "    predictions, true_labels = [], []\n",
        "    with torch.no_grad():\n",
        "        for batch in data_loader:\n",
        "            input_ids = batch['input_ids'].to(device)\n",
        "            attention_mask = batch['attention_mask'].to(device)\n",
        "            labels = batch['label'].to(device)\n",
        "\n",
        "            outputs = model(input_ids=input_ids, attention_mask=attention_mask)\n",
        "            loss = criterion(outputs, labels)\n",
        "            total_loss += loss.item()\n",
        "\n",
        "            _, preds = torch.max(outputs, dim=1)\n",
        "            predictions.extend(preds.cpu().numpy())\n",
        "            true_labels.extend(labels.cpu().numpy())\n",
        "    return total_loss / len(data_loader), predictions, true_labels\n",
        "\n",
        "# Train and evaluate with early stopping\n",
        "epochs = 10\n",
        "for epoch in range(epochs):\n",
        "    train_loss = train_model(model, train_loader, criterion, optimizer)\n",
        "    val_loss, _, _ = eval_model(model, test_loader)\n",
        "    print(f'Epoch {epoch + 1}/{epochs}, Train Loss: {train_loss:.4f}, Validation Loss: {val_loss:.4f}')\n",
        "\n",
        "    # Check for early stopping\n",
        "    if val_loss < best_loss:\n",
        "        best_loss = val_loss\n",
        "        best_model_state = copy.deepcopy(model.state_dict())\n",
        "        early_stop_counter = 0\n",
        "    else:\n",
        "        early_stop_counter += 1\n",
        "        if early_stop_counter >= patience:\n",
        "            print(\"Early stopping triggered\")\n",
        "            break\n",
        "\n",
        "# Load the best model state before evaluation\n",
        "model.load_state_dict(best_model_state)\n",
        "\n",
        "# Get predictions and evaluate\n",
        "_, preds, true_labels = eval_model(model, test_loader)\n",
        "print(classification_report(true_labels, preds, target_names=label_encoder.classes_))\n"
      ],
      "metadata": {
        "colab": {
          "base_uri": "https://localhost:8080/"
        },
        "id": "noVFYh5zh8fW",
        "outputId": "b2ad1084-2aec-4903-bf1e-609796930115"
      },
      "execution_count": 23,
      "outputs": [
        {
          "output_type": "stream",
          "name": "stdout",
          "text": [
            "Epoch 1/10, Train Loss: 2.0276, Validation Loss: 1.6833\n",
            "Epoch 2/10, Train Loss: 1.3438, Validation Loss: 1.2465\n",
            "Epoch 3/10, Train Loss: 0.9927, Validation Loss: 1.1016\n",
            "Epoch 4/10, Train Loss: 0.8280, Validation Loss: 0.9541\n",
            "Epoch 5/10, Train Loss: 0.6748, Validation Loss: 1.1575\n",
            "Epoch 6/10, Train Loss: 0.6062, Validation Loss: 1.0606\n",
            "Early stopping triggered\n",
            "                                precision    recall  f1-score   support\n",
            "\n",
            "                     allergens       0.92      0.89      0.90       377\n",
            "                    biological       0.99      0.87      0.93       398\n",
            "                      chemical       0.88      0.50      0.63       107\n",
            "food additives and flavourings       0.00      0.00      0.00         7\n",
            "                foreign bodies       0.98      0.74      0.84       166\n",
            "                         fraud       0.58      0.48      0.52        77\n",
            "                     migration       0.00      0.00      0.00         1\n",
            "          organoleptic aspects       0.75      0.23      0.35        13\n",
            "                  other hazard       0.29      0.85      0.43        33\n",
            "              packaging defect       0.11      0.83      0.20        18\n",
            "\n",
            "                      accuracy                           0.78      1197\n",
            "                     macro avg       0.55      0.54      0.48      1197\n",
            "                  weighted avg       0.89      0.78      0.82      1197\n",
            "\n"
          ]
        }
      ]
    },
    {
      "cell_type": "code",
      "source": [],
      "metadata": {
        "id": "Rdk7SjPnjA2P"
      },
      "execution_count": null,
      "outputs": []
    }
  ]
}
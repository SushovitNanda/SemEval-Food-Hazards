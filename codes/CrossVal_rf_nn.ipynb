{
  "cells": [
    {
      "cell_type": "markdown",
      "source": [
        "# Modules and Dataset"
      ],
      "metadata": {
        "id": "0mb4Uv4Pij0z"
      }
    },
    {
      "cell_type": "code",
      "execution_count": 1,
      "metadata": {
        "id": "uFS21MQ4x2rC"
      },
      "outputs": [],
      "source": [
        "import pandas as pd\n",
        "from sklearn.model_selection import train_test_split, cross_val_score\n",
        "from sklearn.pipeline import Pipeline\n",
        "from sklearn.linear_model import LogisticRegression\n",
        "from sklearn.feature_extraction.text import TfidfVectorizer\n",
        "from sklearn.metrics import classification_report\n",
        "from sklearn.svm import SVC\n",
        "from sklearn.ensemble import RandomForestClassifier, GradientBoostingClassifier\n",
        "from sklearn.neural_network import MLPClassifier\n",
        "from sklearn.model_selection import train_test_split, RandomizedSearchCV, GridSearchCV\n",
        "from sklearn.metrics import classification_report\n",
        "from sklearn.ensemble import RandomForestClassifier\n",
        "from sklearn.feature_extraction.text import TfidfVectorizer\n",
        "from sklearn.pipeline import Pipeline\n",
        "from scipy.stats import randint"
      ]
    },
    {
      "cell_type": "code",
      "execution_count": 2,
      "metadata": {
        "id": "RBF03Tbm1r3M"
      },
      "outputs": [],
      "source": [
        "# Load datasets\n",
        "trainset = pd.read_csv('incidents_labelled.csv', index_col=0)\n",
        "testset = pd.read_csv('incidents_val.csv', index_col=0)"
      ]
    },
    {
      "cell_type": "markdown",
      "source": [
        "# CrossVal of RF and NN"
      ],
      "metadata": {
        "id": "d9b_RdqpOQP4"
      }
    },
    {
      "cell_type": "code",
      "source": [
        "text_clf_rf = Pipeline([\n",
        "    ('vect', TfidfVectorizer(strip_accents='unicode', analyzer='char', ngram_range=(2, 5), max_df=0.5, min_df=5)),\n",
        "    ('clf', RandomForestClassifier(n_estimators=100, random_state=42)),  # RandomForest with 100 trees\n",
        "])\n",
        "\n",
        "text_clf_nn = Pipeline([\n",
        "    ('vect', TfidfVectorizer(strip_accents='unicode', analyzer='char', ngram_range=(2, 5), max_df=0.5, min_df=5)),\n",
        "    ('clf', MLPClassifier(hidden_layer_sizes=(100,), max_iter=1000, random_state=42)),\n",
        "])"
      ],
      "metadata": {
        "id": "9WM4OQPJOYY6"
      },
      "execution_count": 22,
      "outputs": []
    },
    {
      "cell_type": "code",
      "source": [
        "def train_and_evaluate_with_cv(model, label, X, y):\n",
        "    # Perform cross-validation\n",
        "    cv_scores = cross_val_score(model, X, y, cv=500, scoring='f1_macro')\n",
        "\n",
        "    print(f\"\\nCross-validation results for {label}:\")\n",
        "    print(f\"Mean : {cv_scores.mean():.4f}\")\n",
        "    print(f\"Standard deviation: {cv_scores.std():.4f}\")\n",
        "\n",
        "    # Train model on the entire dataset after cross-validation\n",
        "    X_train, X_test, y_train, y_test = train_test_split(X, y, test_size=0.2, random_state=42)\n",
        "    model.fit(X_train, y_train)\n",
        "\n",
        "    # Predict on the validation set\n",
        "    y_pred = model.predict(X_test)\n",
        "\n",
        "    # Print classification report\n",
        "    print(f\"\\nClassification report for {label}:\\n\")\n",
        "    print(classification_report(y_test, y_pred))"
      ],
      "metadata": {
        "id": "4B2jr1R4OEPP"
      },
      "execution_count": 21,
      "outputs": []
    },
    {
      "cell_type": "code",
      "source": [
        "# Evaluate the Neural Network model for each label using cross-validation\n",
        "print(\"Evaluating Neural Network model for each label\")\n",
        "for label in ['hazard-category', 'product-category']:\n",
        "    train_and_evaluate_with_cv(text_clf_nn, label, trainset['title'], trainset[label])"
      ],
      "metadata": {
        "id": "nmRcDcahOdiD"
      },
      "execution_count": null,
      "outputs": []
    },
    {
      "cell_type": "code",
      "source": [
        "# Evaluate the RandomForest model for each label using cross-validation\n",
        "print(\"Evaluating RandomForest model for each label\")\n",
        "for label in ['hazard', 'product']:\n",
        "    train_and_evaluate_with_cv(text_clf_rf, label, trainset['title'], trainset[label])\n"
      ],
      "metadata": {
        "id": "HuhxyZEwOgCT"
      },
      "execution_count": null,
      "outputs": []
    },
    {
      "cell_type": "markdown",
      "source": [
        "# downloading predictions and saving it"
      ],
      "metadata": {
        "id": "31rJZ5D4a4Iy"
      }
    },
    {
      "cell_type": "code",
      "source": [
        "for label in ('hazard-category', 'product-category'):\n",
        "    text_clf_nn.fit(trainset['title'], trainset[label])\n",
        "    predictions[label] = text_clf_nn.predict(testset['title'])"
      ],
      "metadata": {
        "id": "TIzuz61ybZhU"
      },
      "execution_count": null,
      "outputs": []
    },
    {
      "cell_type": "code",
      "source": [
        "predictions = pd.DataFrame()\n",
        "for label in ('hazard', 'product'):\n",
        "    text_clf_rf.fit(trainset['title'], trainset[label])\n",
        "    predictions[label] = text_clf_rf.predict(testset['title'])"
      ],
      "metadata": {
        "id": "ywsa3x1_a9sc"
      },
      "execution_count": null,
      "outputs": []
    },
    {
      "cell_type": "code",
      "execution_count": null,
      "metadata": {
        "colab": {
          "base_uri": "https://localhost:8080/"
        },
        "id": "wCmxTGWv1rre",
        "outputId": "66ebb629-304e-41a0-9db4-10375899ffc0"
      },
      "outputs": [
        {
          "name": "stdout",
          "output_type": "stream",
          "text": [
            "Predictions saved and zipped successfully in SemEval-Hazard folder.\n"
          ]
        }
      ],
      "source": [
        "import os\n",
        "from shutil import make_archive\n",
        "\n",
        "output_folder = r'C:\\Users\\Sushovit\\Desktop\\RF'\n",
        "os.makedirs(output_folder, exist_ok=True)\n",
        "\n",
        "# Save the predictions to a CSV file inside the \"SemEval-Hazard\" folder\n",
        "csv_path = os.path.join(output_folder, 'submission.csv')\n",
        "predictions.to_csv(csv_path)\n",
        "\n",
        "# Zip the folder and save the zip file inside the \"SemEval-Hazard\" folder\n",
        "zip_path = os.path.join(output_folder, 'submission')\n",
        "make_archive(zip_path, 'zip', output_folder)\n",
        "\n",
        "print(\"Predictions saved and zipped successfully in SemEval-Hazard folder.\")"
      ]
    }
  ],
  "metadata": {
    "colab": {
      "provenance": [],
      "collapsed_sections": [
        "0mb4Uv4Pij0z",
        "31rJZ5D4a4Iy"
      ]
    },
    "kernelspec": {
      "display_name": "Python 3",
      "name": "python3"
    },
    "language_info": {
      "name": "python"
    }
  },
  "nbformat": 4,
  "nbformat_minor": 0
}
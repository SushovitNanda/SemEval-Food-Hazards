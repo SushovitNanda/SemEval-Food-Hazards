{
  "nbformat": 4,
  "nbformat_minor": 0,
  "metadata": {
    "colab": {
      "provenance": [],
      "gpuType": "T4",
      "authorship_tag": "ABX9TyM3COHJouaFZRFqssCO3woS",
      "include_colab_link": true
    },
    "kernelspec": {
      "name": "python3",
      "display_name": "Python 3"
    },
    "language_info": {
      "name": "python"
    },
    "accelerator": "GPU"
  },
  "cells": [
    {
      "cell_type": "markdown",
      "metadata": {
        "id": "view-in-github",
        "colab_type": "text"
      },
      "source": [
        "<a href=\"https://colab.research.google.com/github/SushovitNanda/SemEval-Food-Hazards/blob/main/BERT_Lr_edits.ipynb\" target=\"_parent\"><img src=\"https://colab.research.google.com/assets/colab-badge.svg\" alt=\"Open In Colab\"/></a>"
      ]
    },
    {
      "cell_type": "code",
      "execution_count": 9,
      "metadata": {
        "id": "Aad6nVK5XYZM"
      },
      "outputs": [],
      "source": [
        "import pandas as pd\n",
        "import torch\n",
        "from sklearn.model_selection import train_test_split\n",
        "from sklearn.metrics import classification_report\n",
        "from transformers import BertTokenizer, BertForSequenceClassification, AdamW\n",
        "from torch.utils.data import DataLoader, Dataset\n",
        "from transformers import get_linear_schedule_with_warmup\n",
        "from tqdm import tqdm\n",
        "import warnings\n",
        "warnings.filterwarnings(\"ignore\")"
      ]
    },
    {
      "cell_type": "code",
      "source": [
        "# Load the dataset\n",
        "data = pd.read_csv('incidents_labelled.csv')\n",
        "\n",
        "# Combine 'title' and 'text' columns for richer input data\n",
        "data['combined_text'] = data['title'] + \" \" + data['text']\n",
        "\n",
        "# Encode hazard-category to numerical labels\n",
        "label_mapping = {label: idx for idx, label in enumerate(data['hazard-category'].unique())}\n",
        "data['label'] = data['hazard-category'].map(label_mapping)\n",
        "\n",
        "# Stratified train-test split\n",
        "train_df, val_df = train_test_split(data, test_size=0.2, stratify=data['label'], random_state=42)\n",
        "\n",
        "# Define tokenizer and model\n",
        "tokenizer = BertTokenizer.from_pretrained('bert-base-uncased')\n",
        "model = BertForSequenceClassification.from_pretrained('bert-base-uncased', num_labels=len(label_mapping))\n",
        "\n",
        ""
      ],
      "metadata": {
        "colab": {
          "base_uri": "https://localhost:8080/"
        },
        "id": "QPQz_PYZXrdu",
        "outputId": "796d30e8-3095-493d-d3df-318e0c7f1f45"
      },
      "execution_count": 17,
      "outputs": [
        {
          "output_type": "stream",
          "name": "stderr",
          "text": [
            "Some weights of BertForSequenceClassification were not initialized from the model checkpoint at bert-base-uncased and are newly initialized: ['classifier.bias', 'classifier.weight']\n",
            "You should probably TRAIN this model on a down-stream task to be able to use it for predictions and inference.\n"
          ]
        }
      ]
    },
    {
      "cell_type": "code",
      "source": [
        "# Custom Dataset Class for PyTorch\n",
        "class HazardDataset(Dataset):\n",
        "    def __init__(self, texts, labels, tokenizer, max_length=128):\n",
        "        self.texts = texts\n",
        "        self.labels = labels\n",
        "        self.tokenizer = tokenizer\n",
        "        self.max_length = max_length\n",
        "\n",
        "    def __len__(self):\n",
        "        return len(self.texts)\n",
        "\n",
        "    def __getitem__(self, idx):\n",
        "        encoding = self.tokenizer(\n",
        "            self.texts[idx],\n",
        "            add_special_tokens=True,\n",
        "            max_length=self.max_length,\n",
        "            padding='max_length',\n",
        "            truncation=True,\n",
        "            return_tensors='pt'\n",
        "        )\n",
        "        return {\n",
        "            'input_ids': encoding['input_ids'].flatten(),\n",
        "            'attention_mask': encoding['attention_mask'].flatten(),\n",
        "            'labels': torch.tensor(self.labels[idx], dtype=torch.long)\n",
        "        }\n",
        "\n",
        "# Create DataLoaders\n",
        "train_dataset = HazardDataset(train_df['combined_text'].tolist(), train_df['label'].tolist(), tokenizer)\n",
        "val_dataset = HazardDataset(val_df['combined_text'].tolist(), val_df['label'].tolist(), tokenizer)\n",
        "\n",
        "train_loader = DataLoader(train_dataset, batch_size=16, shuffle=True)\n",
        "val_loader = DataLoader(val_dataset, batch_size=16)\n",
        "\n",
        "# Optimizer and Scheduler\n",
        "optimizer = AdamW(model.parameters(), lr=1e-4, correct_bias=False)\n",
        "total_steps = len(train_loader) * 5  # Assuming 5 epochs (was *3 initially for 3 epochs)\n",
        "scheduler = get_linear_schedule_with_warmup(optimizer, num_warmup_steps=0, num_training_steps=total_steps)\n"
      ],
      "metadata": {
        "id": "d5hMwKpAYbTA"
      },
      "execution_count": 22,
      "outputs": []
    },
    {
      "cell_type": "code",
      "source": [
        "# Training function\n",
        "def train_model(model, train_loader, val_loader, optimizer, scheduler, epochs=5):\n",
        "    model.train()\n",
        "    for epoch in range(epochs):\n",
        "        total_train_loss = 0\n",
        "        for batch in tqdm(train_loader):\n",
        "            input_ids = batch['input_ids'].to(device)\n",
        "            attention_mask = batch['attention_mask'].to(device)\n",
        "            labels = batch['labels'].to(device)\n",
        "\n",
        "            model.zero_grad()\n",
        "            outputs = model(input_ids, attention_mask=attention_mask, labels=labels)\n",
        "            loss = outputs.loss\n",
        "            total_train_loss += loss.item()\n",
        "            loss.backward()\n",
        "            optimizer.step()\n",
        "            scheduler.step()\n",
        "\n",
        "        avg_train_loss = total_train_loss / len(train_loader)\n",
        "        print(f\"Epoch {epoch + 1}/{epochs} - Training Loss: {avg_train_loss}\")\n",
        "\n",
        "        # Validation after each epoch\n",
        "        evaluate_model(model, val_loader)\n",
        "\n",
        "# Evaluation function\n",
        "def evaluate_model(model, val_loader):\n",
        "    model.eval()\n",
        "    predictions, true_labels = [], []\n",
        "\n",
        "    with torch.no_grad():\n",
        "        for batch in val_loader:\n",
        "            input_ids = batch['input_ids'].to(device)\n",
        "            attention_mask = batch['attention_mask'].to(device)\n",
        "            labels = batch['labels'].to(device)\n",
        "\n",
        "            outputs = model(input_ids, attention_mask=attention_mask)\n",
        "            logits = outputs.logits\n",
        "            preds = torch.argmax(logits, dim=1).flatten()\n",
        "\n",
        "            predictions.extend(preds.cpu().numpy())\n",
        "            true_labels.extend(labels.cpu().numpy())\n",
        "\n",
        "    print(\"Validation Classification Report:\")\n",
        "    print(classification_report(true_labels, predictions, target_names=label_mapping.keys()))\n"
      ],
      "metadata": {
        "id": "SxjGOt9OYbQa"
      },
      "execution_count": 23,
      "outputs": []
    },
    {
      "cell_type": "code",
      "source": [
        "# Device setup\n",
        "device = torch.device(\"cuda\" if torch.cuda.is_available() else \"cpu\")\n",
        "model = model.to(device)\n",
        "\n",
        "#with lr = 1e-4\n",
        "\n",
        "# Train and evaluate the model\n",
        "train_model(model, train_loader, val_loader, optimizer, scheduler)"
      ],
      "metadata": {
        "colab": {
          "base_uri": "https://localhost:8080/"
        },
        "id": "q93a1EHfulpX",
        "outputId": "e68f273a-fa9c-40e3-c25c-a82d64465a86"
      },
      "execution_count": 24,
      "outputs": [
        {
          "output_type": "stream",
          "name": "stderr",
          "text": [
            "100%|██████████| 300/300 [02:18<00:00,  2.17it/s]\n"
          ]
        },
        {
          "output_type": "stream",
          "name": "stdout",
          "text": [
            "Epoch 1/5 - Training Loss: 1.6196963859846194\n",
            "Validation Classification Report:\n",
            "                                precision    recall  f1-score   support\n",
            "\n",
            "                    biological       0.34      1.00      0.50       404\n",
            "                foreign bodies       0.00      0.00      0.00       154\n",
            "                      chemical       0.00      0.00      0.00       100\n",
            "                         fraud       0.00      0.00      0.00        82\n",
            "          organoleptic aspects       0.00      0.00      0.00        13\n",
            "                     allergens       0.00      0.00      0.00       391\n",
            "              packaging defect       0.00      0.00      0.00        16\n",
            "                  other hazard       0.00      0.00      0.00        29\n",
            "food additives and flavourings       0.00      0.00      0.00         5\n",
            "                     migration       0.00      0.00      0.00         3\n",
            "\n",
            "                      accuracy                           0.34      1197\n",
            "                     macro avg       0.03      0.10      0.05      1197\n",
            "                  weighted avg       0.11      0.34      0.17      1197\n",
            "\n"
          ]
        },
        {
          "output_type": "stream",
          "name": "stderr",
          "text": [
            "100%|██████████| 300/300 [02:13<00:00,  2.24it/s]\n"
          ]
        },
        {
          "output_type": "stream",
          "name": "stdout",
          "text": [
            "Epoch 2/5 - Training Loss: 1.638235467672348\n",
            "Validation Classification Report:\n",
            "                                precision    recall  f1-score   support\n",
            "\n",
            "                    biological       0.34      1.00      0.50       404\n",
            "                foreign bodies       0.00      0.00      0.00       154\n",
            "                      chemical       0.00      0.00      0.00       100\n",
            "                         fraud       0.00      0.00      0.00        82\n",
            "          organoleptic aspects       0.00      0.00      0.00        13\n",
            "                     allergens       0.00      0.00      0.00       391\n",
            "              packaging defect       0.00      0.00      0.00        16\n",
            "                  other hazard       0.00      0.00      0.00        29\n",
            "food additives and flavourings       0.00      0.00      0.00         5\n",
            "                     migration       0.00      0.00      0.00         3\n",
            "\n",
            "                      accuracy                           0.34      1197\n",
            "                     macro avg       0.03      0.10      0.05      1197\n",
            "                  weighted avg       0.11      0.34      0.17      1197\n",
            "\n"
          ]
        },
        {
          "output_type": "stream",
          "name": "stderr",
          "text": [
            "100%|██████████| 300/300 [02:17<00:00,  2.18it/s]\n"
          ]
        },
        {
          "output_type": "stream",
          "name": "stdout",
          "text": [
            "Epoch 3/5 - Training Loss: 1.6310232178370159\n",
            "Validation Classification Report:\n",
            "                                precision    recall  f1-score   support\n",
            "\n",
            "                    biological       0.34      1.00      0.50       404\n",
            "                foreign bodies       0.00      0.00      0.00       154\n",
            "                      chemical       0.00      0.00      0.00       100\n",
            "                         fraud       0.00      0.00      0.00        82\n",
            "          organoleptic aspects       0.00      0.00      0.00        13\n",
            "                     allergens       0.00      0.00      0.00       391\n",
            "              packaging defect       0.00      0.00      0.00        16\n",
            "                  other hazard       0.00      0.00      0.00        29\n",
            "food additives and flavourings       0.00      0.00      0.00         5\n",
            "                     migration       0.00      0.00      0.00         3\n",
            "\n",
            "                      accuracy                           0.34      1197\n",
            "                     macro avg       0.03      0.10      0.05      1197\n",
            "                  weighted avg       0.11      0.34      0.17      1197\n",
            "\n"
          ]
        },
        {
          "output_type": "stream",
          "name": "stderr",
          "text": [
            "100%|██████████| 300/300 [02:14<00:00,  2.24it/s]\n"
          ]
        },
        {
          "output_type": "stream",
          "name": "stdout",
          "text": [
            "Epoch 4/5 - Training Loss: 1.626112804412842\n",
            "Validation Classification Report:\n",
            "                                precision    recall  f1-score   support\n",
            "\n",
            "                    biological       0.34      1.00      0.50       404\n",
            "                foreign bodies       0.00      0.00      0.00       154\n",
            "                      chemical       0.00      0.00      0.00       100\n",
            "                         fraud       0.00      0.00      0.00        82\n",
            "          organoleptic aspects       0.00      0.00      0.00        13\n",
            "                     allergens       0.00      0.00      0.00       391\n",
            "              packaging defect       0.00      0.00      0.00        16\n",
            "                  other hazard       0.00      0.00      0.00        29\n",
            "food additives and flavourings       0.00      0.00      0.00         5\n",
            "                     migration       0.00      0.00      0.00         3\n",
            "\n",
            "                      accuracy                           0.34      1197\n",
            "                     macro avg       0.03      0.10      0.05      1197\n",
            "                  weighted avg       0.11      0.34      0.17      1197\n",
            "\n"
          ]
        },
        {
          "output_type": "stream",
          "name": "stderr",
          "text": [
            "100%|██████████| 300/300 [02:13<00:00,  2.24it/s]\n"
          ]
        },
        {
          "output_type": "stream",
          "name": "stdout",
          "text": [
            "Epoch 5/5 - Training Loss: 1.6262320601940154\n",
            "Validation Classification Report:\n",
            "                                precision    recall  f1-score   support\n",
            "\n",
            "                    biological       0.34      1.00      0.50       404\n",
            "                foreign bodies       0.00      0.00      0.00       154\n",
            "                      chemical       0.00      0.00      0.00       100\n",
            "                         fraud       0.00      0.00      0.00        82\n",
            "          organoleptic aspects       0.00      0.00      0.00        13\n",
            "                     allergens       0.00      0.00      0.00       391\n",
            "              packaging defect       0.00      0.00      0.00        16\n",
            "                  other hazard       0.00      0.00      0.00        29\n",
            "food additives and flavourings       0.00      0.00      0.00         5\n",
            "                     migration       0.00      0.00      0.00         3\n",
            "\n",
            "                      accuracy                           0.34      1197\n",
            "                     macro avg       0.03      0.10      0.05      1197\n",
            "                  weighted avg       0.11      0.34      0.17      1197\n",
            "\n"
          ]
        }
      ]
    },
    {
      "cell_type": "code",
      "source": [
        "# Device setup\n",
        "device = torch.device(\"cuda\" if torch.cuda.is_available() else \"cpu\")\n",
        "model = model.to(device)\n",
        "\n",
        "#with lr = 2e-5\n",
        "\n",
        "# Train and evaluate the model\n",
        "train_model(model, train_loader, val_loader, optimizer, scheduler)"
      ],
      "metadata": {
        "colab": {
          "base_uri": "https://localhost:8080/"
        },
        "collapsed": true,
        "id": "tP_zt5LRkTqy",
        "outputId": "860d14c1-7c19-469d-909b-b66f6bebf0d3"
      },
      "execution_count": 21,
      "outputs": [
        {
          "output_type": "stream",
          "name": "stderr",
          "text": [
            "100%|██████████| 300/300 [02:23<00:00,  2.09it/s]\n"
          ]
        },
        {
          "output_type": "stream",
          "name": "stdout",
          "text": [
            "Epoch 1/5 - Training Loss: 0.7113679797016084\n",
            "Validation Classification Report:\n",
            "                                precision    recall  f1-score   support\n",
            "\n",
            "                    biological       0.97      0.92      0.95       404\n",
            "                foreign bodies       0.80      0.91      0.85       154\n",
            "                      chemical       0.72      0.89      0.80       100\n",
            "                         fraud       0.77      0.54      0.63        82\n",
            "          organoleptic aspects       0.40      0.62      0.48        13\n",
            "                     allergens       0.89      0.97      0.92       391\n",
            "              packaging defect       0.00      0.00      0.00        16\n",
            "                  other hazard       0.15      0.07      0.10        29\n",
            "food additives and flavourings       0.00      0.00      0.00         5\n",
            "                     migration       0.00      0.00      0.00         3\n",
            "\n",
            "                      accuracy                           0.86      1197\n",
            "                     macro avg       0.47      0.49      0.47      1197\n",
            "                  weighted avg       0.84      0.86      0.85      1197\n",
            "\n"
          ]
        },
        {
          "output_type": "stream",
          "name": "stderr",
          "text": [
            "100%|██████████| 300/300 [02:17<00:00,  2.18it/s]\n"
          ]
        },
        {
          "output_type": "stream",
          "name": "stdout",
          "text": [
            "Epoch 2/5 - Training Loss: 0.33219497340420884\n",
            "Validation Classification Report:\n",
            "                                precision    recall  f1-score   support\n",
            "\n",
            "                    biological       0.97      0.94      0.95       404\n",
            "                foreign bodies       0.79      0.95      0.87       154\n",
            "                      chemical       0.80      0.90      0.85       100\n",
            "                         fraud       0.80      0.57      0.67        82\n",
            "          organoleptic aspects       1.00      0.38      0.56        13\n",
            "                     allergens       0.92      0.96      0.94       391\n",
            "              packaging defect       0.70      0.44      0.54        16\n",
            "                  other hazard       0.67      0.62      0.64        29\n",
            "food additives and flavourings       0.00      0.00      0.00         5\n",
            "                     migration       0.00      0.00      0.00         3\n",
            "\n",
            "                      accuracy                           0.89      1197\n",
            "                     macro avg       0.66      0.58      0.60      1197\n",
            "                  weighted avg       0.89      0.89      0.89      1197\n",
            "\n"
          ]
        },
        {
          "output_type": "stream",
          "name": "stderr",
          "text": [
            "100%|██████████| 300/300 [02:16<00:00,  2.20it/s]\n"
          ]
        },
        {
          "output_type": "stream",
          "name": "stdout",
          "text": [
            "Epoch 3/5 - Training Loss: 0.21671192827634514\n",
            "Validation Classification Report:\n",
            "                                precision    recall  f1-score   support\n",
            "\n",
            "                    biological       0.96      0.95      0.95       404\n",
            "                foreign bodies       0.90      0.90      0.90       154\n",
            "                      chemical       0.80      0.89      0.84       100\n",
            "                         fraud       0.76      0.59      0.66        82\n",
            "          organoleptic aspects       0.80      0.62      0.70        13\n",
            "                     allergens       0.90      0.97      0.94       391\n",
            "              packaging defect       0.67      0.50      0.57        16\n",
            "                  other hazard       0.65      0.59      0.62        29\n",
            "food additives and flavourings       1.00      0.40      0.57         5\n",
            "                     migration       0.00      0.00      0.00         3\n",
            "\n",
            "                      accuracy                           0.90      1197\n",
            "                     macro avg       0.74      0.64      0.68      1197\n",
            "                  weighted avg       0.89      0.90      0.89      1197\n",
            "\n"
          ]
        },
        {
          "output_type": "stream",
          "name": "stderr",
          "text": [
            "100%|██████████| 300/300 [02:24<00:00,  2.07it/s]\n"
          ]
        },
        {
          "output_type": "stream",
          "name": "stdout",
          "text": [
            "Epoch 4/5 - Training Loss: 0.14096784167923032\n",
            "Validation Classification Report:\n",
            "                                precision    recall  f1-score   support\n",
            "\n",
            "                    biological       0.93      0.96      0.95       404\n",
            "                foreign bodies       0.89      0.88      0.89       154\n",
            "                      chemical       0.83      0.89      0.86       100\n",
            "                         fraud       0.75      0.60      0.67        82\n",
            "          organoleptic aspects       0.86      0.46      0.60        13\n",
            "                     allergens       0.92      0.96      0.94       391\n",
            "              packaging defect       0.64      0.56      0.60        16\n",
            "                  other hazard       0.73      0.66      0.69        29\n",
            "food additives and flavourings       1.00      0.40      0.57         5\n",
            "                     migration       0.00      0.00      0.00         3\n",
            "\n",
            "                      accuracy                           0.90      1197\n",
            "                     macro avg       0.76      0.64      0.68      1197\n",
            "                  weighted avg       0.89      0.90      0.89      1197\n",
            "\n"
          ]
        },
        {
          "output_type": "stream",
          "name": "stderr",
          "text": [
            "100%|██████████| 300/300 [02:16<00:00,  2.19it/s]\n"
          ]
        },
        {
          "output_type": "stream",
          "name": "stdout",
          "text": [
            "Epoch 5/5 - Training Loss: 0.08474937721310805\n",
            "Validation Classification Report:\n",
            "                                precision    recall  f1-score   support\n",
            "\n",
            "                    biological       0.96      0.96      0.96       404\n",
            "                foreign bodies       0.89      0.88      0.89       154\n",
            "                      chemical       0.81      0.89      0.85       100\n",
            "                         fraud       0.72      0.65      0.68        82\n",
            "          organoleptic aspects       0.88      0.54      0.67        13\n",
            "                     allergens       0.93      0.95      0.94       391\n",
            "              packaging defect       0.53      0.56      0.55        16\n",
            "                  other hazard       0.73      0.66      0.69        29\n",
            "food additives and flavourings       0.67      0.40      0.50         5\n",
            "                     migration       0.00      0.00      0.00         3\n",
            "\n",
            "                      accuracy                           0.90      1197\n",
            "                     macro avg       0.71      0.65      0.67      1197\n",
            "                  weighted avg       0.89      0.90      0.89      1197\n",
            "\n"
          ]
        }
      ]
    },
    {
      "cell_type": "code",
      "source": [
        "# Device setup\n",
        "device = torch.device(\"cuda\" if torch.cuda.is_available() else \"cpu\")\n",
        "model = model.to(device)\n",
        "\n",
        "#with lr = 1e-6\n",
        "\n",
        "# Train and evaluate the model\n",
        "train_model(model, train_loader, val_loader, optimizer, scheduler)"
      ],
      "metadata": {
        "colab": {
          "base_uri": "https://localhost:8080/"
        },
        "collapsed": true,
        "id": "1xqcn5TKYbNo",
        "outputId": "dd9edd43-4882-4449-b617-bb471463e146"
      },
      "execution_count": 5,
      "outputs": [
        {
          "output_type": "stream",
          "name": "stderr",
          "text": [
            "100%|██████████| 300/300 [02:27<00:00,  2.03it/s]\n"
          ]
        },
        {
          "output_type": "stream",
          "name": "stdout",
          "text": [
            "Epoch 1/5 - Training Loss: 1.5788312151034674\n",
            "Validation Classification Report:\n",
            "                                precision    recall  f1-score   support\n",
            "\n",
            "                    biological       0.93      0.89      0.91       404\n",
            "                foreign bodies       0.55      0.12      0.19       154\n",
            "                      chemical       0.00      0.00      0.00       100\n",
            "                         fraud       0.00      0.00      0.00        82\n",
            "          organoleptic aspects       0.00      0.00      0.00        13\n",
            "                     allergens       0.50      0.99      0.66       391\n",
            "              packaging defect       0.00      0.00      0.00        16\n",
            "                  other hazard       0.00      0.00      0.00        29\n",
            "food additives and flavourings       0.00      0.00      0.00         5\n",
            "                     migration       0.00      0.00      0.00         3\n",
            "\n",
            "                      accuracy                           0.64      1197\n",
            "                     macro avg       0.20      0.20      0.18      1197\n",
            "                  weighted avg       0.55      0.64      0.55      1197\n",
            "\n"
          ]
        },
        {
          "output_type": "stream",
          "name": "stderr",
          "text": [
            "100%|██████████| 300/300 [02:18<00:00,  2.17it/s]\n"
          ]
        },
        {
          "output_type": "stream",
          "name": "stdout",
          "text": [
            "Epoch 2/5 - Training Loss: 1.0569116338094076\n",
            "Validation Classification Report:\n",
            "                                precision    recall  f1-score   support\n",
            "\n",
            "                    biological       0.95      0.90      0.92       404\n",
            "                foreign bodies       0.48      0.93      0.63       154\n",
            "                      chemical       0.00      0.00      0.00       100\n",
            "                         fraud       0.00      0.00      0.00        82\n",
            "          organoleptic aspects       0.00      0.00      0.00        13\n",
            "                     allergens       0.73      0.96      0.83       391\n",
            "              packaging defect       0.00      0.00      0.00        16\n",
            "                  other hazard       0.00      0.00      0.00        29\n",
            "food additives and flavourings       0.00      0.00      0.00         5\n",
            "                     migration       0.00      0.00      0.00         3\n",
            "\n",
            "                      accuracy                           0.74      1197\n",
            "                     macro avg       0.22      0.28      0.24      1197\n",
            "                  weighted avg       0.62      0.74      0.66      1197\n",
            "\n"
          ]
        },
        {
          "output_type": "stream",
          "name": "stderr",
          "text": [
            "100%|██████████| 300/300 [02:15<00:00,  2.21it/s]\n"
          ]
        },
        {
          "output_type": "stream",
          "name": "stdout",
          "text": [
            "Epoch 3/5 - Training Loss: 0.8908883117636045\n",
            "Validation Classification Report:\n",
            "                                precision    recall  f1-score   support\n",
            "\n",
            "                    biological       0.94      0.90      0.92       404\n",
            "                foreign bodies       0.47      0.95      0.63       154\n",
            "                      chemical       0.90      0.19      0.31       100\n",
            "                         fraud       0.00      0.00      0.00        82\n",
            "          organoleptic aspects       0.00      0.00      0.00        13\n",
            "                     allergens       0.80      0.97      0.88       391\n",
            "              packaging defect       0.00      0.00      0.00        16\n",
            "                  other hazard       0.00      0.00      0.00        29\n",
            "food additives and flavourings       0.00      0.00      0.00         5\n",
            "                     migration       0.00      0.00      0.00         3\n",
            "\n",
            "                      accuracy                           0.76      1197\n",
            "                     macro avg       0.31      0.30      0.27      1197\n",
            "                  weighted avg       0.71      0.76      0.70      1197\n",
            "\n"
          ]
        },
        {
          "output_type": "stream",
          "name": "stderr",
          "text": [
            "100%|██████████| 300/300 [02:15<00:00,  2.21it/s]\n"
          ]
        },
        {
          "output_type": "stream",
          "name": "stdout",
          "text": [
            "Epoch 4/5 - Training Loss: 0.819423645734787\n",
            "Validation Classification Report:\n",
            "                                precision    recall  f1-score   support\n",
            "\n",
            "                    biological       0.94      0.91      0.92       404\n",
            "                foreign bodies       0.47      0.94      0.62       154\n",
            "                      chemical       0.88      0.42      0.57       100\n",
            "                         fraud       0.00      0.00      0.00        82\n",
            "          organoleptic aspects       0.00      0.00      0.00        13\n",
            "                     allergens       0.84      0.97      0.90       391\n",
            "              packaging defect       0.00      0.00      0.00        16\n",
            "                  other hazard       0.00      0.00      0.00        29\n",
            "food additives and flavourings       0.00      0.00      0.00         5\n",
            "                     migration       0.00      0.00      0.00         3\n",
            "\n",
            "                      accuracy                           0.78      1197\n",
            "                     macro avg       0.31      0.32      0.30      1197\n",
            "                  weighted avg       0.72      0.78      0.73      1197\n",
            "\n"
          ]
        },
        {
          "output_type": "stream",
          "name": "stderr",
          "text": [
            "100%|██████████| 300/300 [02:15<00:00,  2.21it/s]\n"
          ]
        },
        {
          "output_type": "stream",
          "name": "stdout",
          "text": [
            "Epoch 5/5 - Training Loss: 0.7870138581593832\n",
            "Validation Classification Report:\n",
            "                                precision    recall  f1-score   support\n",
            "\n",
            "                    biological       0.93      0.91      0.92       404\n",
            "                foreign bodies       0.49      0.94      0.64       154\n",
            "                      chemical       0.86      0.50      0.63       100\n",
            "                         fraud       0.00      0.00      0.00        82\n",
            "          organoleptic aspects       0.00      0.00      0.00        13\n",
            "                     allergens       0.84      0.97      0.90       391\n",
            "              packaging defect       0.00      0.00      0.00        16\n",
            "                  other hazard       0.00      0.00      0.00        29\n",
            "food additives and flavourings       0.00      0.00      0.00         5\n",
            "                     migration       0.00      0.00      0.00         3\n",
            "\n",
            "                      accuracy                           0.79      1197\n",
            "                     macro avg       0.31      0.33      0.31      1197\n",
            "                  weighted avg       0.72      0.79      0.74      1197\n",
            "\n"
          ]
        }
      ]
    },
    {
      "cell_type": "code",
      "source": [],
      "metadata": {
        "id": "1pSptSnuYbK5"
      },
      "execution_count": null,
      "outputs": []
    },
    {
      "cell_type": "code",
      "source": [],
      "metadata": {
        "id": "nkdPn1eFYbHy"
      },
      "execution_count": null,
      "outputs": []
    }
  ]
}
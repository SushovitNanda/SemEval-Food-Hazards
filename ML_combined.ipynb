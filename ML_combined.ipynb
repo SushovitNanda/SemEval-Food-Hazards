{
  "nbformat": 4,
  "nbformat_minor": 0,
  "metadata": {
    "colab": {
      "provenance": [],
      "gpuType": "T4",
      "authorship_tag": "ABX9TyOLQi7E6gowo6aQR4ZLRjBX",
      "include_colab_link": true
    },
    "kernelspec": {
      "name": "python3",
      "display_name": "Python 3"
    },
    "language_info": {
      "name": "python"
    },
    "accelerator": "GPU"
  },
  "cells": [
    {
      "cell_type": "markdown",
      "metadata": {
        "id": "view-in-github",
        "colab_type": "text"
      },
      "source": [
        "<a href=\"https://colab.research.google.com/github/SushovitNanda/SemEval-Food-Hazards/blob/main/ML_combined.ipynb\" target=\"_parent\"><img src=\"https://colab.research.google.com/assets/colab-badge.svg\" alt=\"Open In Colab\"/></a>"
      ]
    },
    {
      "cell_type": "code",
      "source": [
        "import pandas as pd\n",
        "import numpy as np\n",
        "from sklearn.model_selection import train_test_split, GridSearchCV, RandomizedSearchCV\n",
        "from sklearn.feature_extraction.text import TfidfVectorizer\n",
        "from sklearn.linear_model import LogisticRegression\n",
        "from sklearn.svm import SVC\n",
        "from sklearn.ensemble import RandomForestClassifier, GradientBoostingClassifier\n",
        "from sklearn.neural_network import MLPClassifier\n",
        "from sklearn.metrics import classification_report, accuracy_score,make_scorer\n",
        "from sklearn.preprocessing import LabelEncoder\n",
        "from sklearn.model_selection import cross_val_score\n",
        "from scipy.stats import randint, uniform\n",
        "import warnings\n",
        "warnings.filterwarnings(\"ignore\")"
      ],
      "metadata": {
        "id": "fWDkUTOvBroY"
      },
      "execution_count": 2,
      "outputs": []
    },
    {
      "cell_type": "code",
      "source": [
        "# Load data\n",
        "train = pd.read_csv('incidents_labelled.csv')\n",
        "\n",
        "# Combine title and text columns into a single feature\n",
        "train['combined_text'] = train['title'] + ' ' + train['text']\n",
        "\n",
        "# Encode the target variable 'hazard-category'\n",
        "label_encoder = LabelEncoder()\n",
        "train['hazard_category_encoded'] = label_encoder.fit_transform(train['hazard-category'])\n",
        "\n",
        "# Define the features (X) and target (y)\n",
        "X = train['combined_text']\n",
        "y = train['hazard_category_encoded']\n",
        "\n",
        "# Split data into training and test sets (Stratified)\n",
        "X_train, X_test, y_train, y_test = train_test_split(X, y, test_size=0.2, stratify=y, random_state=42)\n",
        "\n",
        "# Vectorize text data with TF-IDF\n",
        "tfidf_vectorizer = TfidfVectorizer(max_features=5000, stop_words='english')\n",
        "X_train_tfidf = tfidf_vectorizer.fit_transform(X_train)\n",
        "X_test_tfidf = tfidf_vectorizer.transform(X_test)\n"
      ],
      "metadata": {
        "id": "YhtQIRSyCY8D"
      },
      "execution_count": 4,
      "outputs": []
    },
    {
      "cell_type": "markdown",
      "source": [
        "# Default Testing"
      ],
      "metadata": {
        "id": "8UX_JJGpH4JE"
      }
    },
    {
      "cell_type": "code",
      "source": [
        "\n",
        "# Define models\n",
        "models = {\n",
        "    \"Logistic Regression\": LogisticRegression(max_iter=1000),\n",
        "    \"Support Vector Machine\": SVC(),\n",
        "    \"Random Forest\": RandomForestClassifier(),\n",
        "    \"MLP Classifier\": MLPClassifier(max_iter=300),\n",
        "    \"Gradient Boosting\": GradientBoostingClassifier()\n",
        "}\n",
        "\n",
        "# Train and evaluate each model\n",
        "for model_name, model in models.items():\n",
        "    model.fit(X_train_tfidf, y_train)\n",
        "    y_pred = model.predict(X_test_tfidf)\n",
        "    accuracy = accuracy_score(y_test, y_pred)\n",
        "    print(f\"Model: {model_name}\")\n",
        "    print(f\"Accuracy: {accuracy:.4f}\")\n",
        "    print(classification_report(y_test, y_pred, target_names=label_encoder.classes_))\n",
        "    print(\"\\n\" + \"=\"*60 + \"\\n\")\n"
      ],
      "metadata": {
        "colab": {
          "base_uri": "https://localhost:8080/"
        },
        "collapsed": true,
        "id": "3oGaJPrB-XB_",
        "outputId": "a415943e-8cdb-4975-be48-0ba4ef4dec01"
      },
      "execution_count": 1,
      "outputs": [
        {
          "output_type": "stream",
          "name": "stdout",
          "text": [
            "Model: Logistic Regression\n",
            "Accuracy: 0.8571\n",
            "                                precision    recall  f1-score   support\n",
            "\n",
            "                     allergens       0.91      0.96      0.94       391\n",
            "                    biological       0.84      0.97      0.90       404\n",
            "                      chemical       0.74      0.67      0.70       100\n",
            "food additives and flavourings       0.60      0.60      0.60         5\n",
            "                foreign bodies       0.86      0.91      0.88       154\n",
            "                         fraud       0.82      0.55      0.66        82\n",
            "                     migration       0.00      0.00      0.00         3\n",
            "          organoleptic aspects       0.00      0.00      0.00        13\n",
            "                  other hazard       0.67      0.14      0.23        29\n",
            "              packaging defect       1.00      0.12      0.22        16\n",
            "\n",
            "                      accuracy                           0.86      1197\n",
            "                     macro avg       0.64      0.49      0.51      1197\n",
            "                  weighted avg       0.84      0.86      0.84      1197\n",
            "\n",
            "\n",
            "============================================================\n",
            "\n",
            "Model: Support Vector Machine\n",
            "Accuracy: 0.8513\n",
            "                                precision    recall  f1-score   support\n",
            "\n",
            "                     allergens       0.91      0.96      0.93       391\n",
            "                    biological       0.83      0.97      0.89       404\n",
            "                      chemical       0.75      0.65      0.70       100\n",
            "food additives and flavourings       0.60      0.60      0.60         5\n",
            "                foreign bodies       0.84      0.88      0.86       154\n",
            "                         fraud       0.82      0.56      0.67        82\n",
            "                     migration       0.00      0.00      0.00         3\n",
            "          organoleptic aspects       0.00      0.00      0.00        13\n",
            "                  other hazard       0.80      0.14      0.24        29\n",
            "              packaging defect       1.00      0.12      0.22        16\n",
            "\n",
            "                      accuracy                           0.85      1197\n",
            "                     macro avg       0.66      0.49      0.51      1197\n",
            "                  weighted avg       0.84      0.85      0.83      1197\n",
            "\n",
            "\n",
            "============================================================\n",
            "\n",
            "Model: Random Forest\n",
            "Accuracy: 0.8613\n",
            "                                precision    recall  f1-score   support\n",
            "\n",
            "                     allergens       0.92      0.96      0.94       391\n",
            "                    biological       0.87      0.97      0.92       404\n",
            "                      chemical       0.76      0.70      0.73       100\n",
            "food additives and flavourings       0.60      0.60      0.60         5\n",
            "                foreign bodies       0.79      0.93      0.86       154\n",
            "                         fraud       0.75      0.52      0.62        82\n",
            "                     migration       0.00      0.00      0.00         3\n",
            "          organoleptic aspects       1.00      0.15      0.27        13\n",
            "                  other hazard       0.67      0.14      0.23        29\n",
            "              packaging defect       0.00      0.00      0.00        16\n",
            "\n",
            "                      accuracy                           0.86      1197\n",
            "                     macro avg       0.64      0.50      0.52      1197\n",
            "                  weighted avg       0.84      0.86      0.84      1197\n",
            "\n",
            "\n",
            "============================================================\n",
            "\n",
            "Model: MLP Classifier\n",
            "Accuracy: 0.8588\n",
            "                                precision    recall  f1-score   support\n",
            "\n",
            "                     allergens       0.89      0.95      0.92       391\n",
            "                    biological       0.90      0.95      0.93       404\n",
            "                      chemical       0.84      0.72      0.77       100\n",
            "food additives and flavourings       0.60      0.60      0.60         5\n",
            "                foreign bodies       0.86      0.82      0.84       154\n",
            "                         fraud       0.65      0.56      0.60        82\n",
            "                     migration       1.00      0.33      0.50         3\n",
            "          organoleptic aspects       0.67      0.15      0.25        13\n",
            "                  other hazard       0.68      0.45      0.54        29\n",
            "              packaging defect       0.40      0.38      0.39        16\n",
            "\n",
            "                      accuracy                           0.86      1197\n",
            "                     macro avg       0.75      0.59      0.63      1197\n",
            "                  weighted avg       0.85      0.86      0.85      1197\n",
            "\n",
            "\n",
            "============================================================\n",
            "\n",
            "Model: Gradient Boosting\n",
            "Accuracy: 0.8864\n",
            "                                precision    recall  f1-score   support\n",
            "\n",
            "                     allergens       0.93      0.97      0.95       391\n",
            "                    biological       0.90      0.97      0.93       404\n",
            "                      chemical       0.84      0.81      0.83       100\n",
            "food additives and flavourings       0.33      0.60      0.43         5\n",
            "                foreign bodies       0.92      0.89      0.90       154\n",
            "                         fraud       0.78      0.57      0.66        82\n",
            "                     migration       0.00      0.00      0.00         3\n",
            "          organoleptic aspects       0.50      0.38      0.43        13\n",
            "                  other hazard       0.73      0.38      0.50        29\n",
            "              packaging defect       0.39      0.44      0.41        16\n",
            "\n",
            "                      accuracy                           0.89      1197\n",
            "                     macro avg       0.63      0.60      0.61      1197\n",
            "                  weighted avg       0.88      0.89      0.88      1197\n",
            "\n",
            "\n",
            "============================================================\n",
            "\n"
          ]
        }
      ]
    },
    {
      "cell_type": "markdown",
      "source": [
        "# Cross-Validation on MLP / Gradient Boosting"
      ],
      "metadata": {
        "id": "CzIHBwFXH7LS"
      }
    },
    {
      "cell_type": "code",
      "source": [
        "# Define models\n",
        "mlp_model = MLPClassifier(max_iter=300, random_state=42)\n",
        "gb_model = GradientBoostingClassifier(random_state=42)\n",
        "\n",
        "# Define a scoring function\n",
        "scoring = make_scorer(accuracy_score)\n",
        "\n",
        "# Cross-validation for MLP Classifier\n",
        "print(\"Performing cross-validation for MLP Classifier...\")\n",
        "mlp_cv_scores = cross_val_score(mlp_model, X_train_tfidf, y_train, cv=500, scoring=scoring)\n",
        "print(f\"MLP Classifier Cross-Validation Accuracy: {np.mean(mlp_cv_scores):.4f} ± {np.std(mlp_cv_scores):.4f}\")\n",
        "\n",
        "# Cross-validation for Gradient Boosting Classifier\n",
        "print(\"Performing cross-validation for Gradient Boosting Classifier...\")\n",
        "gb_cv_scores = cross_val_score(gb_model, X_train_tfidf, y_train, cv=500, scoring=scoring)\n",
        "print(f\"Gradient Boosting Classifier Cross-Validation Accuracy: {np.mean(gb_cv_scores):.4f} ± {np.std(gb_cv_scores):.4f}\")\n"
      ],
      "metadata": {
        "colab": {
          "base_uri": "https://localhost:8080/"
        },
        "id": "z3VIVQ1r_lPZ",
        "outputId": "df3e9ac6-da42-4d91-f3e1-b9fab977d081"
      },
      "execution_count": null,
      "outputs": [
        {
          "output_type": "stream",
          "name": "stdout",
          "text": [
            "Performing cross-validation for MLP Classifier...\n"
          ]
        }
      ]
    },
    {
      "cell_type": "markdown",
      "source": [
        "# GridSearchCV"
      ],
      "metadata": {
        "id": "cqVWPngOICP0"
      }
    },
    {
      "cell_type": "code",
      "source": [
        "# MLP Classifier Hyperparameter Grid\n",
        "mlp_param_grid = {\n",
        "    'hidden_layer_sizes': [(100,), (50, 50), (100, 50)],\n",
        "    'activation': ['relu', 'tanh'],\n",
        "    'solver': ['adam', 'sgd'],\n",
        "    'learning_rate': ['constant', 'adaptive'],\n",
        "    'max_iter': [300]\n",
        "}\n",
        "\n",
        "# Gradient Boosting Classifier Hyperparameter Grid\n",
        "gb_param_grid = {\n",
        "    'n_estimators': [50, 100],\n",
        "    'learning_rate': [0.01, 0.1, 0.2],\n",
        "    'max_depth': [3, 5, 7]\n",
        "}\n",
        "\n",
        "# Initialize the classifiers\n",
        "mlp_model = MLPClassifier(random_state=42)\n",
        "gb_model = GradientBoostingClassifier(random_state=42)\n",
        "\n",
        "# Grid Search for MLP Classifier\n",
        "print(\"Performing Grid Search for MLP Classifier...\")\n",
        "mlp_grid_search = GridSearchCV(\n",
        "    estimator=mlp_model,\n",
        "    param_grid=mlp_param_grid,\n",
        "    cv=3,\n",
        "    scoring='accuracy',\n",
        "    verbose=1,\n",
        "    n_jobs=-1\n",
        ")\n",
        "mlp_grid_search.fit(X_train_tfidf, y_train)\n",
        "print(f\"Best MLP Parameters: {mlp_grid_search.best_params_}\")\n",
        "print(f\"Best MLP Cross-Validation Accuracy: {mlp_grid_search.best_score_:.4f}\")\n",
        "\n",
        "# Grid Search for Gradient Boosting Classifier\n",
        "print(\"\\nPerforming Grid Search for Gradient Boosting Classifier...\")\n",
        "gb_grid_search = GridSearchCV(\n",
        "    estimator=gb_model,\n",
        "    param_grid=gb_param_grid,\n",
        "    cv=3,\n",
        "    scoring='accuracy',\n",
        "    verbose=1,\n",
        "    n_jobs=-1\n",
        ")\n",
        "gb_grid_search.fit(X_train_tfidf, y_train)\n",
        "print(f\"Best Gradient Boosting Parameters: {gb_grid_search.best_params_}\")\n",
        "print(f\"Best Gradient Boosting Cross-Validation Accuracy: {gb_grid_search.best_score_:.4f}\")\n"
      ],
      "metadata": {
        "id": "Xlm5djt3HOUD"
      },
      "execution_count": null,
      "outputs": []
    },
    {
      "cell_type": "markdown",
      "source": [
        "# RandomSearchCV"
      ],
      "metadata": {
        "id": "Mb50F41_IEVp"
      }
    },
    {
      "cell_type": "code",
      "source": [
        "# Randomized Search for MLP Classifier\n",
        "print(\"Performing Randomized Search for MLP Classifier...\")\n",
        "mlp_random_search = RandomizedSearchCV(\n",
        "    estimator=MLPClassifier(random_state=42),\n",
        "    param_distributions={\n",
        "        'hidden_layer_sizes': [(100,), (50, 50), (100, 50)],\n",
        "        'activation': ['relu', 'tanh'],\n",
        "        'solver': ['adam', 'sgd'],\n",
        "        'learning_rate': ['constant', 'adaptive'],\n",
        "        'max_iter': [300]\n",
        "    },\n",
        "    n_iter=20,\n",
        "    scoring='accuracy',\n",
        "    verbose=1,\n",
        "    n_jobs=-1,\n",
        "    random_state=42\n",
        ")\n",
        "mlp_random_search.fit(X_train_tfidf, y_train)\n",
        "print(f\"Best MLP Parameters: {mlp_random_search.best_params_}\")\n",
        "print(f\"Best MLP Cross-Validation Accuracy: {mlp_random_search.best_score_:.4f}\")\n",
        "\n",
        "# Evaluate best MLP model on test data\n",
        "best_mlp_model = mlp_random_search.best_estimator_\n",
        "y_pred_mlp = best_mlp_model.predict(X_test_tfidf)\n",
        "print(\"Classification Report for Best MLP Model:\\n\")\n",
        "print(classification_report(y_test, y_pred_mlp, target_names=label_encoder.classes_))\n"
      ],
      "metadata": {
        "id": "s3w6JalrCCZE"
      },
      "execution_count": null,
      "outputs": []
    },
    {
      "cell_type": "code",
      "source": [
        "# Randomized Search for Gradient Boosting Classifier\n",
        "print(\"\\nPerforming Randomized Search for Gradient Boosting Classifier...\")\n",
        "gb_random_search = RandomizedSearchCV(\n",
        "    estimator=GradientBoostingClassifier(random_state=42),\n",
        "    param_distributions={\n",
        "        'n_estimators': randint(50, 200),\n",
        "        'learning_rate': uniform(0.01, 0.3),\n",
        "        'max_depth': randint(3, 10)\n",
        "    },\n",
        "    n_iter=20,\n",
        "    scoring='accuracy',\n",
        "    verbose=1,\n",
        "    n_jobs=-1,\n",
        "    random_state=42\n",
        ")\n",
        "gb_random_search.fit(X_train_tfidf, y_train)\n",
        "print(f\"Best Gradient Boosting Parameters: {gb_random_search.best_params_}\")\n",
        "print(f\"Best Gradient Boosting Cross-Validation Accuracy: {gb_random_search.best_score_:.4f}\")\n",
        "\n",
        "# Evaluate best Gradient Boosting model on test data\n",
        "best_gb_model = gb_random_search.best_estimator_\n",
        "y_pred_gb = best_gb_model.predict(X_test_tfidf)\n",
        "print(\"Classification Report for Best Gradient Boosting Model:\\n\")\n",
        "print(classification_report(y_test, y_pred_gb, target_names=label_encoder.classes_))\n"
      ],
      "metadata": {
        "id": "u1weh0iFIUgC"
      },
      "execution_count": null,
      "outputs": []
    },
    {
      "cell_type": "code",
      "source": [],
      "metadata": {
        "id": "HFcRsJE0IXg1"
      },
      "execution_count": null,
      "outputs": []
    }
  ]
}